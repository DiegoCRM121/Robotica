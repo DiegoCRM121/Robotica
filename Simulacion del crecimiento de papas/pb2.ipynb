{
 "cells": [
  {
   "cell_type": "markdown",
   "metadata": {},
   "source": [
    "## Problema 2: Simulación del Crecimiento de Papas"
   ]
  },
  {
   "cell_type": "code",
   "execution_count": 3,
   "metadata": {},
   "outputs": [],
   "source": [
    "import random\n",
    "\n",
    "class SimulacionCultivo:\n",
    "    def __init__(self):\n",
    "        self.cantidad = 100\n",
    "        self.fd_sol = 1.1\n",
    "        self.fd_lluvia = 1.3\n",
    "        self.fd_sequia = 0.8\n",
    "        self.probPlaga = 0.1\n",
    "\n",
    "    def iniciar (self, dias):\n",
    "        rend_optimo = self.cantidad*dias*1.05\n",
    "        self.rendimientoFinal(dias)\n",
    "        return self.cantidad/rend_optimo\n",
    "\n",
    "    def registrarFactores (self, x=False):\n",
    "        if x:\n",
    "            self.fd_sol = float(input('Factor de crecimiento para los días de sol: '))\n",
    "            self.fd_lluvia = float(input('Factor de crecimiento para los días de lluvia: '))\n",
    "            self.fd_sequia = float(input('Factor de crecimiento para los días de sequía: '))\n",
    "            self.probPlaga = float(input('Factor de probabilidad de ocurrencia de plaga: '))\n",
    "\n",
    "    def rendimientoFinal(self, dias):\n",
    "        for _ in range(dias):\n",
    "            if random.random() < self.probPlaga:\n",
    "                f_plagas = 0.5\n",
    "            else:\n",
    "                f_plagas = 1\n",
    "\n",
    "            rday = random.randint(1, 3)\n",
    "            if rday == 1:\n",
    "                crec = 1.05*f_plagas*self.fd_sol\n",
    "            elif rday == 2:\n",
    "                crec = 1.05*f_plagas*self.fd_lluvia\n",
    "            else:\n",
    "                crec = 1.05*f_plagas*self.fd_sequia\n",
    "            \n",
    "            #print(self.cantidad)\n",
    "            self.cantidad *= crec\n",
    "        \n",
    "        self.cantidad = int(self.cantidad)"
   ]
  },
  {
   "cell_type": "markdown",
   "metadata": {},
   "source": [
    "#### Prueba"
   ]
  },
  {
   "cell_type": "code",
   "execution_count": 6,
   "metadata": {},
   "outputs": [
    {
     "name": "stdout",
     "output_type": "stream",
     "text": [
      "La cantidad final de papas es de 165 unidades.\n",
      "El rendimiento de la simulación es del 1.31%.\n"
     ]
    }
   ],
   "source": [
    "def main ():\n",
    "    simul = SimulacionCultivo()\n",
    "\n",
    "    if input('¿Desea ajustar los parámetros? (s/n): ') == 's':\n",
    "        simul.registrarFactores(True)\n",
    "    else:\n",
    "        simul.registrarFactores()\n",
    "    \n",
    "    rendimiento = simul.iniciar(int(input('Cantidad de días: ')))\n",
    "\n",
    "    print(f'La cantidad final de papas es de {simul.cantidad} unidades.')\n",
    "    print(f'El rendimiento de la simulación es del {(rendimiento*100):.2f}%.')\n",
    "\n",
    "if __name__ == '__main__':\n",
    "    main()"
   ]
  }
 ],
 "metadata": {
  "kernelspec": {
   "display_name": "Python 3",
   "language": "python",
   "name": "python3"
  },
  "language_info": {
   "codemirror_mode": {
    "name": "ipython",
    "version": 3
   },
   "file_extension": ".py",
   "mimetype": "text/x-python",
   "name": "python",
   "nbconvert_exporter": "python",
   "pygments_lexer": "ipython3",
   "version": "3.12.0"
  }
 },
 "nbformat": 4,
 "nbformat_minor": 2
}
