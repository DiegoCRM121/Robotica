{
 "cells": [
  {
   "cell_type": "markdown",
   "metadata": {},
   "source": [
    "## Problema 1: Gestión de un Cultivo de Papas"
   ]
  },
  {
   "cell_type": "code",
   "execution_count": 1,
   "metadata": {},
   "outputs": [],
   "source": [
    "import json\n",
    "\n",
    "class VariedadDePapa:\n",
    "    def __init__(self, n, c, p):\n",
    "        self.data = {\n",
    "            'Nombre de la variedad': n,\n",
    "            'Ciclo de cultivo': c,\n",
    "            'Produccion estimada por hectarea' : p #no pongas tildes\n",
    "        }\n",
    "    \n",
    "    def show (self):\n",
    "        print(json.dumps(self.data, indent=4))\n",
    "\n",
    "class CultivoDePapas:\n",
    "    def __init__ (self):\n",
    "        self.var = []\n",
    "    \n",
    "    def agregarVariedad (self, var):\n",
    "        self.var.append(var)\n",
    "    \n",
    "    def removerVariedad (self, tipo):\n",
    "        for i in self.var:\n",
    "            if i.nombre == tipo:\n",
    "                self.var.remove(i)\n",
    "                break\n",
    "    \n",
    "    def prodTotalEstimada(self):\n",
    "        total = sum(i.data['Produccion estimada por hectarea'] for i in self.var)\n",
    "        return total\n",
    "    \n",
    "    def minCiclo(self):\n",
    "        if not self.var: return None\n",
    "        \n",
    "        short = min(self.var, key=lambda x: x.data['Ciclo de cultivo'])\n",
    "        return short\n",
    "\n",
    "    def show (self):\n",
    "        for i in self.var: i.show()\n",
    "\n",
    "\n",
    "def insertarVariedad ():\n",
    "    print('Nuevo objeto')\n",
    "    nombre = input('Nombre de la variedad: ')\n",
    "    if nombre == '-': return None\n",
    "\n",
    "    ciclo = int(input('Ciclo de cultivo en días: '))\n",
    "    if ciclo == 0: return None\n",
    "\n",
    "    produccion = int(input('Producción estimada por hectárea: '))\n",
    "    if produccion == 0: return None\n",
    "\n",
    "    return VariedadDePapa(nombre, ciclo, produccion)"
   ]
  },
  {
   "cell_type": "markdown",
   "metadata": {},
   "source": [
    "#### Prueba"
   ]
  },
  {
   "cell_type": "code",
   "execution_count": 2,
   "metadata": {},
   "outputs": [
    {
     "name": "stdout",
     "output_type": "stream",
     "text": [
      "Nuevo cultivo\n",
      "Nuevo objeto\n",
      "Variedad agregada :D\n",
      "Nuevo objeto\n",
      "Variedad agregada :D\n",
      "Nuevo objeto\n",
      "{\n",
      "    \"Nombre de la variedad\": \"Yukon Gold\",\n",
      "    \"Ciclo de cultivo\": 90,\n",
      "    \"Produccion estimada por hectarea\": 20\n",
      "}\n",
      "{\n",
      "    \"Nombre de la variedad\": \"Russet\",\n",
      "    \"Ciclo de cultivo\": 120,\n",
      "    \"Produccion estimada por hectarea\": 50\n",
      "}\n",
      "Producción total estimada:\n",
      "70\n"
     ]
    }
   ],
   "source": [
    "def main ():\n",
    "    cultivo = CultivoDePapas()\n",
    "    print('Nuevo cultivo')\n",
    "    while True:\n",
    "        obj = insertarVariedad()\n",
    "        if obj == None:\n",
    "            break\n",
    "        else:\n",
    "            cultivo.agregarVariedad(obj)\n",
    "            print('Variedad agregada :D')\n",
    "    \n",
    "    cultivo.show()\n",
    "    print('Producción total estimada:', cultivo.prodTotalEstimada(), 'toneladas')\n",
    "    #print(cultivo.minCiclo().show())\n",
    "    \n",
    "\n",
    "if __name__ == '__main__':\n",
    "    main()"
   ]
  }
 ],
 "metadata": {
  "kernelspec": {
   "display_name": "Python 3",
   "language": "python",
   "name": "python3"
  },
  "language_info": {
   "codemirror_mode": {
    "name": "ipython",
    "version": 3
   },
   "file_extension": ".py",
   "mimetype": "text/x-python",
   "name": "python",
   "nbconvert_exporter": "python",
   "pygments_lexer": "ipython3",
   "version": "3.12.0"
  }
 },
 "nbformat": 4,
 "nbformat_minor": 2
}
