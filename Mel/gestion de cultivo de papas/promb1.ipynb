{
 "cells": [
  {
   "cell_type": "markdown",
   "metadata": {},
   "source": [
    "### Gestión del cultivo de papas"
   ]
  },
  {
   "cell_type": "code",
   "execution_count": 14,
   "metadata": {},
   "outputs": [],
   "source": [
    "class VariedadDePapa:\n",
    "    def __init__(self, nombre, ciclo, prod):\n",
    "        self.variedad = [nombre, ciclo, prod]\n",
    "    \n",
    "    def mostrar (self):\n",
    "        print('{')\n",
    "        print(f'Nombre de la variedad: {self.variedad[0]}')\n",
    "        print(f'Ciclo de cultivo: {self.variedad[1]}')\n",
    "        print(f'Producción estimada por hectárea: {self.variedad[2]}')\n",
    "        print('}')\n",
    "\n",
    "class CultivoDePapas:\n",
    "    def __init__ (self):\n",
    "        self.cultivo = []\n",
    "    \n",
    "    def nuevaVariedad (self):\n",
    "        while True:\n",
    "            nombre = input('Nombre: ')\n",
    "            ciclo = int(input('Ciclo de cultivo: '))\n",
    "            prod = int(input('Producción estimada por hectárea: '))\n",
    "            nuevo = VariedadDePapa(nombre, ciclo, prod)\n",
    "            self.cultivo.append(nuevo)\n",
    "            if input('Desea añadir otra variedad? y/n: ') == 'n':\n",
    "                break\n",
    "    \n",
    "    def removerVariedadNombre (self, nombre):\n",
    "        self.cultivo = [obj for obj in self.cultivo if obj.variedad[0] != nombre]\n",
    "        print(f'Variedad {nombre} removido')\n",
    "    \n",
    "    def produccionEstimadaHec (self):\n",
    "        prod = 0\n",
    "        for obj in self.cultivo:\n",
    "            prod += obj.variedad[2]\n",
    "        \n",
    "        return prod\n",
    "    \n",
    "    def cicloMasCorto(self):\n",
    "        minimo = self.cultivo[0][1]\n",
    "        for obj in self.cultivo:\n",
    "            if obj.variedad[1] < minimo:\n",
    "                minimo = obj.variedad[1]\n",
    "        \n",
    "        return minimo\n",
    "\n",
    "    def mostrar (self):\n",
    "        for obj in self.cultivo:\n",
    "            obj.mostrar()"
   ]
  },
  {
   "cell_type": "code",
   "execution_count": 15,
   "metadata": {},
   "outputs": [
    {
     "name": "stdout",
     "output_type": "stream",
     "text": [
      "-------------------Cultivo de papas-----------------\n",
      "{\n",
      "Nombre de la variedad: Yukon Gold\n",
      "Ciclo de cultivo: 90\n",
      "Producción estimada por hectárea: 30\n",
      "}\n",
      "{\n",
      "Nombre de la variedad: Russet\n",
      "Ciclo de cultivo: 120\n",
      "Producción estimada por hectárea: 60\n",
      "}\n"
     ]
    },
    {
     "data": {
      "text/plain": [
       "90"
      ]
     },
     "execution_count": 15,
     "metadata": {},
     "output_type": "execute_result"
    }
   ],
   "source": [
    "print('-------------------Cultivo de papas-----------------')\n",
    "nuevo_cultivo = CultivoDePapas()\n",
    "nuevo_cultivo.nuevaVariedad()\n",
    "nuevo_cultivo.mostrar()\n",
    "nuevo_cultivo.produccionEstimadaHec()"
   ]
  }
 ],
 "metadata": {
  "kernelspec": {
   "display_name": "Python 3",
   "language": "python",
   "name": "python3"
  },
  "language_info": {
   "codemirror_mode": {
    "name": "ipython",
    "version": 3
   },
   "file_extension": ".py",
   "mimetype": "text/x-python",
   "name": "python",
   "nbconvert_exporter": "python",
   "pygments_lexer": "ipython3",
   "version": "3.12.0"
  }
 },
 "nbformat": 4,
 "nbformat_minor": 2
}
