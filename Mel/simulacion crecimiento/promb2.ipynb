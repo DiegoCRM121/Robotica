{
 "cells": [
  {
   "cell_type": "markdown",
   "metadata": {},
   "source": [
    "### Simulación del Crecimiento de Papas"
   ]
  },
  {
   "cell_type": "markdown",
   "metadata": {},
   "source": [
    "##### Importamos la librería random"
   ]
  },
  {
   "cell_type": "code",
   "execution_count": 3,
   "metadata": {},
   "outputs": [],
   "source": [
    "import random"
   ]
  },
  {
   "cell_type": "markdown",
   "metadata": {},
   "source": [
    "##### Creamos las clases"
   ]
  },
  {
   "cell_type": "code",
   "execution_count": 16,
   "metadata": {},
   "outputs": [],
   "source": [
    "class SimulacionCultivo:\n",
    "    def __init__(self):\n",
    "        self.cantidadInit = 250\n",
    "        self.factoClima = [1.15, 1.7, 0.65]\n",
    "        self.plaga = 0.205\n",
    "        self.factoPlaga = 0.65\n",
    "\n",
    "    def iniciarSimulacion (self, ndias):\n",
    "        self.registroFactores()\n",
    "        return self.rendFinalCultivo(ndias)\n",
    "\n",
    "    def registroFactores (self):\n",
    "        print('Factores por defecto del clima (sol, lluvia, sequía)')\n",
    "        print(*self.factoClima)\n",
    "        print('Probablidad de plaga por defecto')\n",
    "        print(f'{self.plaga*100}%')\n",
    "        print('Proporción de reducción por plaga')\n",
    "        print(self.factoPlaga)\n",
    "\n",
    "        if input('Desea ajustar los parámetros? y/n: ')  == 'y':\n",
    "            print(f'Proporción de factor climático (los tres en la misma linea)')\n",
    "            self.factoClima = list(map(float, input().split()))\n",
    "            print('Probabilidad de plaga')\n",
    "            self.plaga = float(input())\n",
    "            print('Proporción de reducción por plaga')\n",
    "            self.factoPlaga = float(input())\n",
    "\n",
    "    def rendFinalCultivo(self, ndias):\n",
    "        result = self.cantidadInit\n",
    "\n",
    "        for i in range(ndias):\n",
    "            tipoDia = random.randint(0, 2)\n",
    "\n",
    "            if random.random() < self.plaga:\n",
    "                crecimiento = self.factoClima[tipoDia] ** (0.085*self.factoPlaga)\n",
    "            else:\n",
    "                crecimiento = self.factoClima[tipoDia] ** 0.085\n",
    "\n",
    "            result *= crecimiento\n",
    "        \n",
    "        return int(result)"
   ]
  },
  {
   "cell_type": "markdown",
   "metadata": {},
   "source": [
    "##### Realizamos la simulación"
   ]
  },
  {
   "cell_type": "code",
   "execution_count": 17,
   "metadata": {},
   "outputs": [
    {
     "name": "stdout",
     "output_type": "stream",
     "text": [
      "Cantidad inicial de papas: 250\n",
      "Factores por defecto del clima (sol, lluvia, sequía)\n",
      "1.15 1.7 0.65\n",
      "Probablidad de plaga por defecto\n",
      "20.5%\n",
      "Proporción de reducción por plaga\n",
      "0.65\n",
      "Cantidad final de papas: 383\n"
     ]
    }
   ],
   "source": [
    "simulacion = SimulacionCultivo()\n",
    "print(f'Cantidad inicial de papas: {simulacion.cantidadInit}')\n",
    "result = simulacion.iniciarSimulacion(120)\n",
    "print(f'Cantidad final de papas: {result}')"
   ]
  }
 ],
 "metadata": {
  "kernelspec": {
   "display_name": "Python 3",
   "language": "python",
   "name": "python3"
  },
  "language_info": {
   "codemirror_mode": {
    "name": "ipython",
    "version": 3
   },
   "file_extension": ".py",
   "mimetype": "text/x-python",
   "name": "python",
   "nbconvert_exporter": "python",
   "pygments_lexer": "ipython3",
   "version": "3.12.0"
  }
 },
 "nbformat": 4,
 "nbformat_minor": 2
}
